{
 "cells": [
  {
   "cell_type": "code",
   "execution_count": 1,
   "id": "30fc1d35-310f-4503-8456-111b9ee46c68",
   "metadata": {},
   "outputs": [
    {
     "data": {
      "text/plain": [
       "language\n",
       "Estonian      1000\n",
       "Swedish       1000\n",
       "Thai          1000\n",
       "Tamil         1000\n",
       "Dutch         1000\n",
       "Japanese      1000\n",
       "Turkish       1000\n",
       "Latin         1000\n",
       "Urdu          1000\n",
       "Indonesian    1000\n",
       "Portugese     1000\n",
       "French        1000\n",
       "Chinese       1000\n",
       "Korean        1000\n",
       "Hindi         1000\n",
       "Spanish       1000\n",
       "Pushto        1000\n",
       "Persian       1000\n",
       "Romanian      1000\n",
       "Russian       1000\n",
       "English       1000\n",
       "Arabic        1000\n",
       "Italian       1000\n",
       "Name: count, dtype: int64"
      ]
     },
     "execution_count": 1,
     "metadata": {},
     "output_type": "execute_result"
    }
   ],
   "source": [
    "#importazione del dataset e esplorazione dei dati\n",
    "\n",
    "import pandas as pd\n",
    "\n",
    "data = pd.read_csv(\"dataset.csv\")\n",
    "\n",
    "data[\"language\"].value_counts()"
   ]
  },
  {
   "cell_type": "code",
   "execution_count": 2,
   "id": "cc9f3f7e-7ee2-43d7-967e-009c271b9f6e",
   "metadata": {},
   "outputs": [
    {
     "data": {
      "text/plain": [
       "language\n",
       "German       1508\n",
       "English      1462\n",
       "French       1082\n",
       "Spanish       851\n",
       "Portugese     767\n",
       "Italian       737\n",
       "Dutch         575\n",
       "Romanian       48\n",
       "Swedish        10\n",
       "Language        8\n",
       "Label           1\n",
       "Name: count, dtype: int64"
      ]
     },
     "execution_count": 2,
     "metadata": {},
     "output_type": "execute_result"
    }
   ],
   "source": [
    "data_2 = pd.read_csv(\"dataset_augmentation.csv\",  encoding=\"ISO-8859-1\")\n",
    "data_2[\"language\"].value_counts()"
   ]
  },
  {
   "cell_type": "code",
   "execution_count": 3,
   "id": "58fd949e-c2e3-4186-ae91-5805c58eb942",
   "metadata": {},
   "outputs": [
    {
     "data": {
      "text/plain": [
       "language\n",
       "English       2462\n",
       "French        2082\n",
       "Spanish       1851\n",
       "Portugese     1767\n",
       "Italian       1737\n",
       "Dutch         1575\n",
       "German        1508\n",
       "Romanian      1048\n",
       "Swedish       1010\n",
       "Estonian      1000\n",
       "Indonesian    1000\n",
       "Urdu          1000\n",
       "Latin         1000\n",
       "Turkish       1000\n",
       "Japanese      1000\n",
       "Tamil         1000\n",
       "Thai          1000\n",
       "Chinese       1000\n",
       "Persian       1000\n",
       "Pushto        1000\n",
       "Hindi         1000\n",
       "Korean        1000\n",
       "Arabic        1000\n",
       "Russian       1000\n",
       "Language         8\n",
       "Label            1\n",
       "Name: count, dtype: int64"
      ]
     },
     "execution_count": 3,
     "metadata": {},
     "output_type": "execute_result"
    }
   ],
   "source": [
    "lang = pd.concat([data, data_2], ignore_index=True)\n",
    "lang[\"language\"].value_counts()"
   ]
  },
  {
   "cell_type": "code",
   "execution_count": 4,
   "id": "83b93fdf-835a-4da6-bc9d-85a94335a4c9",
   "metadata": {},
   "outputs": [],
   "source": [
    "#Estrazione dei dati necessari per il modello\n",
    "lang = lang[lang[\"language\"].isin([\"English\", \"Portugese\", \"French\", \"Spanish\", \"Romanian\", \"Dutch\", \"Italian\", \"German\"])]"
   ]
  },
  {
   "cell_type": "code",
   "execution_count": 5,
   "id": "4f6a7a0c-b663-4eee-a97c-87fbbde7ded4",
   "metadata": {},
   "outputs": [],
   "source": [
    "from sklearn.model_selection import train_test_split\n",
    "#divisione dei dati in dati train e dati test\n",
    "train_set, test_set = train_test_split(lang, test_size=0.2, stratify=lang[\"language\"], random_state=42)"
   ]
  },
  {
   "cell_type": "code",
   "execution_count": 6,
   "id": "1a7c71a1-c65a-4b1b-bb80-58dc3bf1b0c1",
   "metadata": {},
   "outputs": [
    {
     "data": {
      "text/plain": [
       "26"
      ]
     },
     "execution_count": 6,
     "metadata": {},
     "output_type": "execute_result"
    }
   ],
   "source": [
    "caratteri_speciali = ['ã', 'â', 'æ', 'è', 'ë', 'î', 'ï', 'œ', 'ù', 'û', 'ÿ',\n",
    "                     'ñ', 'ă', 'ș', 'ț', 'ö', 'õ', 'å', 'ì', 'ò', 'ß', 'ä',\n",
    "                      'ã', 'ã', '¿','¡']\n",
    "len(caratteri_speciali)"
   ]
  },
  {
   "cell_type": "code",
   "execution_count": 7,
   "id": "57415f8d-d943-43fa-a0ee-67b6362edc92",
   "metadata": {},
   "outputs": [
    {
     "data": {
      "text/plain": [
       "53"
      ]
     },
     "execution_count": 7,
     "metadata": {},
     "output_type": "execute_result"
    }
   ],
   "source": [
    "articoli = [\n",
    "    \" a \", \" an \", \" the \", \"s \", \"i \",\n",
    "    \" um \", \" uma \", \" o \", \"a \", \" os \", \" as \",\n",
    "    \" un \", \" une \", \" le \", \" la \", \" les \", \" l'\", \" des \",\n",
    "     \"una\", \" el \", \" los \", \" las \", \" unos \", \" unas \",\n",
    "    \"o \", \" unii \", \" unele \", \" cel \", \" cea \", \" cei \", \" cele \",\n",
    "    \" een \", \" de \", \" het \", \" deze \", \" die \",\n",
    "    \" üks \", \" teine \", \" see \", \" need \", \" see \",\n",
    "    \" il \", \" lo \", \" i \", \" gli \", \" un' \", \" uno \",\n",
    "    \" ein \", \" eine \", \" der \", \" die \", \" das \", \" einige \"\n",
    "]\n",
    "\n",
    "len(articoli)"
   ]
  },
  {
   "cell_type": "code",
   "execution_count": 8,
   "id": "324df6c8-f790-43e4-8057-3bbb8a20adec",
   "metadata": {},
   "outputs": [
    {
     "data": {
      "text/plain": [
       "81"
      ]
     },
     "execution_count": 8,
     "metadata": {},
     "output_type": "execute_result"
    }
   ],
   "source": [
    "ngrams = [\n",
    "    \"th\", \"he\", \"in\", \"er\", \"an\", \"re\", \"nd\", \"at\", \"on\", \"not\", \"op\", \"ou\", \"es\", \n",
    "        \"ti\", \"to\", \"it\", \"is\", \"of\", \"le\", \"de\", \"la\", \"bij\", \"et\", \"se\", \"un\", \"or\", \n",
    "        \"te\", \"nt\", \"ce\", \"el\", \"ech\", \"em\", \"na\", \"di\", \"so\", \"ei\", \"ue\", \"een\", \"io\", \n",
    "        \"que\", \"ra\", \"me\", \"su\", \"va\", \"ni\", \"po\", \"ea\", \"nh\", \"ij\", \"ing\", \"ar\", \"sh\", \n",
    "        \"ng\", \"je\", \"for\", \"n't\", \"ent\", \"boa \", \"bem \", \" bem\", \"are\", \"how\", \"how \", \"wie\"\n",
    "        \"hoe\", \"j'\", \"t'\", \"l'\" , \"ing\" , \"ng\", \"'s\", \"Não\", \"ão\" , \"ça \", \"ai\", \"ch\", \"gn\", \"ui\"\n",
    "        \"gh\", \"șa\", \"ța\", \"c'\", \"m'\"\n",
    "]\n",
    "\n",
    "len(ngrams)"
   ]
  },
  {
   "cell_type": "code",
   "execution_count": 9,
   "id": "8732e9f7-24d4-4a27-931a-1adee4c812bd",
   "metadata": {},
   "outputs": [
    {
     "data": {
      "text/plain": [
       "['hello',\n",
       " 'hi',\n",
       " 'good morning',\n",
       " 'good afternoon',\n",
       " 'good evening',\n",
       " 'how are',\n",
       " 'olá',\n",
       " 'oi',\n",
       " 'bom dia',\n",
       " 'boa tarde',\n",
       " 'boa noite',\n",
       " 'tudo bem',\n",
       " 'como',\n",
       " 'bonjour',\n",
       " 'salut',\n",
       " 'bonsoir',\n",
       " 'coucou',\n",
       " 'allô',\n",
       " 'ça va',\n",
       " 'hola',\n",
       " 'buenos días',\n",
       " 'buenas tardes',\n",
       " 'buenas noches',\n",
       " 'qué tal',\n",
       " 'cómo',\n",
       " 'está',\n",
       " 'bună',\n",
       " 'salut',\n",
       " 'bună dimineața',\n",
       " 'bună ziua',\n",
       " 'bună seara',\n",
       " 'hallo',\n",
       " 'hoi',\n",
       " 'goedemorgen',\n",
       " 'goedemiddag',\n",
       " 'goedenavond',\n",
       " 'hoe gaat',\n",
       " 'ciao',\n",
       " 'buongiorno',\n",
       " 'salve',\n",
       " 'buonasera',\n",
       " 'buonanotte',\n",
       " 'come stai',\n",
       " 'hallo',\n",
       " 'guten morgen',\n",
       " 'guten tag',\n",
       " 'guten abend',\n",
       " 'servus']"
      ]
     },
     "execution_count": 9,
     "metadata": {},
     "output_type": "execute_result"
    }
   ],
   "source": [
    "saluti = [\n",
    "    \"Hello\", \"Hi\", \"Good morning\", \"Good afternoon\", \"Good evening\", \"how are\", # English\n",
    "    \"Olá\", \"Oi\", \"Bom dia\", \"Boa tarde\", \"Boa noite\",\"tudo bem\", \"como\",  # Portuguese\n",
    "    \"Bonjour\", \"Salut\", \"Bonsoir\", \"Coucou\", \"Allô\", \"ça va\",  # French\n",
    "    \"Hola\", \"Buenos días\", \"Buenas tardes\", \"Buenas noches\", \"Qué tal\", \"cómo\", \"está\", # Spanish\n",
    "    \"Bună\", \"Salut\", \"Bună dimineața\", \"Bună ziua\", \"Bună seara\",  # Romanian\n",
    "    \"Hallo\", \"Hoi\", \"Goedemorgen\", \"Goedemiddag\", \"Goedenavond\", \"hoe gaat\",  # Dutch\n",
    "    \"Ciao\", \"Buongiorno\", \"Salve\", \"Buonasera\", \"Buonanotte\", \"come stai\",  # Italian\n",
    "    \"Hallo\", \"Guten Morgen\", \"Guten Tag\", \"Guten Abend\", \"Servus\"  # German\n",
    "]\n",
    "saluti = list(map(str.lower, saluti))\n",
    "saluti"
   ]
  },
  {
   "cell_type": "code",
   "execution_count": null,
   "id": "2a860216-41fa-4b6f-a104-3fd733d07a06",
   "metadata": {},
   "outputs": [],
   "source": []
  },
  {
   "cell_type": "code",
   "execution_count": 10,
   "id": "153f22ff-ad95-4642-a55f-724480be0b18",
   "metadata": {},
   "outputs": [
    {
     "data": {
      "text/plain": [
       "74"
      ]
     },
     "execution_count": 10,
     "metadata": {},
     "output_type": "execute_result"
    }
   ],
   "source": [
    "pronomi_soggetivi = [\n",
    "    \"i \", \"you \", \"he \", \"she \", \"it \", \"we \", \"they \",\n",
    "    \"eu \", \"tu \", \"ele \", \"ela \", \"você \", \"nós \", \"eles \", \"elas \",\n",
    "    \"je \", \"tu \", \"elle \", \"on \", \"nous \", \"vous \", \"ils \", \"elles \",\n",
    "    \"yo \", \"tú \", \"él \", \"ella \", \"usted\", \"nosotros\", \"nosotras\", \"vosotros\", \"vosotras\", \"ellos \", \"ellas \", \"ustedes \",\n",
    "    \"eu \", \"tu \", \"el \", \"ea \", \"noi \", \"voi \", \"ei \", \"ele \",\n",
    "    \"ik \", \"jij \", \"u \", \"hij \", \"zij \", \"het \", \"wij \", \"jullie \", \"zij \",\n",
    "    \"mina \", \"sina \", \"tema \", \"meie \", \"teie \", \"nemad \",\n",
    "    \"io \", \"tu \", \"lui \", \"lei \", \"esso \", \"noi \", \"voi \", \"loro \",\n",
    "    \"ich \", \"du \", \"er \", \"sie \", \"es \", \"wir \", \"ihr \", \"sie \"\n",
    "]\n",
    "\n",
    "len(pronomi_soggetivi)"
   ]
  },
  {
   "cell_type": "code",
   "execution_count": 11,
   "id": "de9d1480-4730-401e-bd5a-d262a35ee2e5",
   "metadata": {},
   "outputs": [
    {
     "data": {
      "text/plain": [
       "282"
      ]
     },
     "execution_count": 11,
     "metadata": {},
     "output_type": "execute_result"
    }
   ],
   "source": [
    "features = caratteri_speciali + ngrams + saluti + articoli + pronomi_soggetivi\n",
    "len(features)"
   ]
  },
  {
   "cell_type": "code",
   "execution_count": 12,
   "id": "3c6ace3e-84e1-4116-a164-8d429f0d7f93",
   "metadata": {},
   "outputs": [],
   "source": [
    "import string\n",
    "\n",
    "def transformation(sentences, special_chars):\n",
    "    res = []\n",
    "    sentences = list(map(str.lower, sentences))\n",
    "    for sentence in sentences:\n",
    "        sent_vector = [0 for _ in range(len(special_chars))]\n",
    "        for index, char in enumerate(special_chars):\n",
    "            if char in sentence:\n",
    "                sent_vector[index] = 1\n",
    "            else:\n",
    "                sent_vector[index] = 0\n",
    "        res.append(sent_vector)\n",
    "    return res\n",
    "\n",
    "x_train, y_train = transformation(train_set['Text'], features), train_set['language']"
   ]
  },
  {
   "cell_type": "code",
   "execution_count": 13,
   "id": "a1695dd6-047d-47f6-a8d2-25dcd0820480",
   "metadata": {},
   "outputs": [],
   "source": [
    "x_test, y_test = transformation(test_set['Text'], features), test_set['language']"
   ]
  },
  {
   "cell_type": "code",
   "execution_count": 14,
   "id": "0d8aeae9-fb9a-41ac-8ded-53f6c0f1ed97",
   "metadata": {},
   "outputs": [],
   "source": [
    "#Funzione che valuta il modello.\n",
    "\n",
    "from sklearn.metrics import accuracy_score, classification_report, confusion_matrix\n",
    "\n",
    "def evaluate_model(pred):\n",
    "    accuracy = accuracy_score(y_test, pred)\n",
    "    print(f\"Accuracy: {accuracy * 100:.2f}%\")\n",
    "    \n",
    "    print(\"\\nClassification Report:\")\n",
    "    print(classification_report(y_test, pred))\n",
    "    \n",
    "    print(\"\\nConfusion Matrix:\")\n",
    "    print(confusion_matrix(y_test, pred))\n",
    "\n"
   ]
  },
  {
   "cell_type": "code",
   "execution_count": 15,
   "id": "169e23af-cc5a-47f0-b6a3-2a3434b55705",
   "metadata": {},
   "outputs": [
    {
     "name": "stdout",
     "output_type": "stream",
     "text": [
      "Accuracy: 86.46%\n",
      "\n",
      "Classification Report:\n",
      "              precision    recall  f1-score   support\n",
      "\n",
      "       Dutch       0.97      0.84      0.90       315\n",
      "     English       0.96      0.88      0.92       492\n",
      "      French       0.94      0.86      0.90       416\n",
      "      German       0.52      0.98      0.68       302\n",
      "     Italian       0.88      0.82      0.85       348\n",
      "   Portugese       1.00      0.82      0.90       353\n",
      "    Romanian       0.98      0.94      0.96       210\n",
      "     Spanish       0.95      0.82      0.88       370\n",
      "\n",
      "    accuracy                           0.86      2806\n",
      "   macro avg       0.90      0.87      0.87      2806\n",
      "weighted avg       0.91      0.86      0.87      2806\n",
      "\n",
      "\n",
      "Confusion Matrix:\n",
      "[[264   1   3  47   0   0   0   0]\n",
      " [  0 434   0  52   5   0   0   1]\n",
      " [  1   3 356  47   6   0   0   3]\n",
      " [  5   0   0 296   1   0   0   0]\n",
      " [  0   2  18  32 284   0   3   9]\n",
      " [  1   6   0  38  13 291   0   4]\n",
      " [  0   4   0   9   0   0 197   0]\n",
      " [  1   4   0  47  14   0   0 304]]\n"
     ]
    }
   ],
   "source": [
    "from sklearn.naive_bayes import BernoulliNB\n",
    "\n",
    "naive_bayes = BernoulliNB(alpha=1, fit_prior=True)\n",
    "\n",
    "naive_bayes.fit(x_train, y_train)\n",
    "\n",
    "nb_pred = naive_bayes.predict(x_test)\n",
    "evaluate_model(nb_pred)"
   ]
  },
  {
   "cell_type": "code",
   "execution_count": 16,
   "id": "e9c6d2e5-a066-4c27-a06a-f4c5b46b2cbd",
   "metadata": {},
   "outputs": [
    {
     "name": "stdout",
     "output_type": "stream",
     "text": [
      "Accuracy: 94.83%\n",
      "\n",
      "Classification Report:\n",
      "              precision    recall  f1-score   support\n",
      "\n",
      "       Dutch       0.97      0.96      0.97       315\n",
      "     English       0.93      0.97      0.95       492\n",
      "      French       0.94      0.96      0.95       416\n",
      "      German       0.97      0.96      0.96       302\n",
      "     Italian       0.91      0.91      0.91       348\n",
      "   Portugese       0.99      0.93      0.96       353\n",
      "    Romanian       0.96      0.96      0.96       210\n",
      "     Spanish       0.94      0.93      0.94       370\n",
      "\n",
      "    accuracy                           0.95      2806\n",
      "   macro avg       0.95      0.95      0.95      2806\n",
      "weighted avg       0.95      0.95      0.95      2806\n",
      "\n",
      "\n",
      "Confusion Matrix:\n",
      "[[303   4   3   3   1   0   1   0]\n",
      " [  0 477   4   1   6   0   0   4]\n",
      " [  2   7 400   0   4   0   0   3]\n",
      " [  1   3   0 290   7   1   0   0]\n",
      " [  3   5  12   0 317   0   5   6]\n",
      " [  1   8   1   1   6 328   2   6]\n",
      " [  0   3   3   1   0   0 201   2]\n",
      " [  1   7   4   4   8   1   0 345]]\n"
     ]
    }
   ],
   "source": [
    "from sklearn.naive_bayes import MultinomialNB\n",
    "\n",
    "mnb = MultinomialNB(alpha=1, fit_prior=True)\n",
    "\n",
    "mnb.fit(x_train, y_train)\n",
    "\n",
    "pred_m = mnb.predict(x_test)\n",
    "evaluate_model(pred_m)"
   ]
  },
  {
   "cell_type": "code",
   "execution_count": 17,
   "id": "c52d4a1c-3c3c-4969-b970-f57c4f2bf801",
   "metadata": {},
   "outputs": [
    {
     "name": "stdout",
     "output_type": "stream",
     "text": [
      "Accuracy: 95.08%\n",
      "\n",
      "Classification Report:\n",
      "              precision    recall  f1-score   support\n",
      "\n",
      "       Dutch       0.96      0.96      0.96       315\n",
      "     English       0.93      0.96      0.95       492\n",
      "      French       0.95      0.95      0.95       416\n",
      "      German       0.97      0.97      0.97       302\n",
      "     Italian       0.96      0.95      0.96       348\n",
      "   Portugese       0.99      0.89      0.94       353\n",
      "    Romanian       0.98      0.97      0.97       210\n",
      "     Spanish       0.90      0.95      0.93       370\n",
      "\n",
      "    accuracy                           0.95      2806\n",
      "   macro avg       0.96      0.95      0.95      2806\n",
      "weighted avg       0.95      0.95      0.95      2806\n",
      "\n",
      "\n",
      "Confusion Matrix:\n",
      "[[302   4   4   2   0   0   2   1]\n",
      " [  3 474   7   1   1   0   0   6]\n",
      " [  1   9 396   4   1   0   0   5]\n",
      " [  2   0   1 294   1   0   0   4]\n",
      " [  1   7   1   0 331   1   0   7]\n",
      " [  5   7   4   1   6 315   1  14]\n",
      " [  1   3   0   0   2   0 203   1]\n",
      " [  1   5   4   1   2   3   1 353]]\n"
     ]
    }
   ],
   "source": [
    "from sklearn.ensemble import RandomForestClassifier\n",
    "\n",
    "model_rf = RandomForestClassifier()\n",
    "model_rf.fit(x_train, y_train)\n",
    "\n",
    "pred_rf = model_rf.predict(x_test)\n",
    "evaluate_model(pred_rf)"
   ]
  },
  {
   "cell_type": "code",
   "execution_count": 18,
   "id": "7afdf3d0-9939-4853-ab4c-d6e1511d3167",
   "metadata": {},
   "outputs": [
    {
     "name": "stdout",
     "output_type": "stream",
     "text": [
      "Accuracy: 95.22%\n",
      "\n",
      "Classification Report:\n",
      "              precision    recall  f1-score   support\n",
      "\n",
      "       Dutch       0.97      0.94      0.95       315\n",
      "     English       0.92      0.97      0.94       492\n",
      "      French       0.95      0.95      0.95       416\n",
      "      German       0.97      0.98      0.97       302\n",
      "     Italian       0.97      0.95      0.96       348\n",
      "   Portugese       0.98      0.93      0.95       353\n",
      "    Romanian       1.00      0.96      0.98       210\n",
      "     Spanish       0.92      0.96      0.94       370\n",
      "\n",
      "    accuracy                           0.95      2806\n",
      "   macro avg       0.96      0.95      0.95      2806\n",
      "weighted avg       0.95      0.95      0.95      2806\n",
      "\n",
      "\n",
      "Confusion Matrix:\n",
      "[[297   7   4   3   0   2   1   1]\n",
      " [  1 475   4   1   4   2   0   5]\n",
      " [  2  13 394   2   1   1   0   3]\n",
      " [  1   3   0 295   1   1   0   1]\n",
      " [  0   6   3   2 329   0   0   8]\n",
      " [  3   4   4   1   3 327   0  11]\n",
      " [  1   4   1   0   1   0 201   2]\n",
      " [  2   6   4   1   1   2   0 354]]\n"
     ]
    }
   ],
   "source": [
    "#Dopo aver sperimentato sugli iperparametri sono arrivato a raggiungere un 97% con il modello SVC e il parametro C che definisce\n",
    "#la complessita del modello imposto al valore 3.5\n",
    "\n",
    "from sklearn.svm import SVC\n",
    "\n",
    "model_svm = SVC(probability=True, C=6)\n",
    "model_svm.fit(x_train, y_train)\n",
    "\n",
    "pred_svm = model_svm.predict(x_test)\n",
    "evaluate_model(pred_svm)"
   ]
  },
  {
   "cell_type": "code",
   "execution_count": 19,
   "id": "94dbcba1-5057-4874-a181-eb3af72d739e",
   "metadata": {},
   "outputs": [],
   "source": [
    "from sklearn.ensemble import VotingClassifier\n",
    "\n",
    "ensemble_clf = VotingClassifier(\n",
    "    estimators=[('nb', mnb), ('rf', model_rf), ('svm', model_svm)],\n",
    "    voting='soft'  \n",
    ")"
   ]
  },
  {
   "cell_type": "code",
   "execution_count": 20,
   "id": "a5450af0-7ac4-4e29-905e-ff0704be93d8",
   "metadata": {},
   "outputs": [
    {
     "name": "stdout",
     "output_type": "stream",
     "text": [
      "Accuracy: 96.01%\n",
      "\n",
      "Classification Report:\n",
      "              precision    recall  f1-score   support\n",
      "\n",
      "       Dutch       0.97      0.95      0.96       315\n",
      "     English       0.94      0.97      0.96       492\n",
      "      French       0.95      0.96      0.96       416\n",
      "      German       0.98      0.99      0.98       302\n",
      "     Italian       0.97      0.95      0.96       348\n",
      "   Portugese       0.99      0.93      0.96       353\n",
      "    Romanian       0.99      0.97      0.98       210\n",
      "     Spanish       0.92      0.96      0.94       370\n",
      "\n",
      "    accuracy                           0.96      2806\n",
      "   macro avg       0.96      0.96      0.96      2806\n",
      "weighted avg       0.96      0.96      0.96      2806\n",
      "\n",
      "\n",
      "Confusion Matrix:\n",
      "[[299   5   7   2   0   0   1   1]\n",
      " [  1 478   4   0   4   0   0   5]\n",
      " [  2   7 401   1   0   1   0   4]\n",
      " [  1   1   0 298   1   0   0   1]\n",
      " [  1   4   5   0 331   1   0   6]\n",
      " [  3   5   1   1   1 329   1  12]\n",
      " [  0   3   1   0   1   0 204   1]\n",
      " [  1   5   4   2   2   2   0 354]]\n"
     ]
    }
   ],
   "source": [
    "ensemble_clf.fit(x_train, y_train)\n",
    "\n",
    "pred_ens = ensemble_clf.predict(x_test)\n",
    "\n",
    "evaluate_model(pred_ens)"
   ]
  },
  {
   "cell_type": "code",
   "execution_count": 21,
   "id": "8bd84c94-e620-4fd8-a921-cfe0622add9d",
   "metadata": {},
   "outputs": [
    {
     "data": {
      "text/plain": [
       "'from sklearn.ensemble import GradientBoostingClassifier\\n\\nmodel_gbc = GradientBoostingClassifier(n_estimators = 70)\\nmodel_gbc.fit(x_train, y_train)\\n\\npred_gbc = model_gbc.predict(x_test)\\nevaluate_model(pred_gbc)'"
      ]
     },
     "execution_count": 21,
     "metadata": {},
     "output_type": "execute_result"
    }
   ],
   "source": [
    "'''from sklearn.ensemble import GradientBoostingClassifier\n",
    "\n",
    "model_gbc = GradientBoostingClassifier(n_estimators = 70)\n",
    "model_gbc.fit(x_train, y_train)\n",
    "\n",
    "pred_gbc = model_gbc.predict(x_test)\n",
    "evaluate_model(pred_gbc)'''\n",
    "\n",
    "#Molto lento e non particolarmente migliore di SVC"
   ]
  },
  {
   "cell_type": "code",
   "execution_count": 73,
   "id": "7c9fc67a-cb08-4d2d-abcc-bf59c00117a8",
   "metadata": {},
   "outputs": [],
   "source": [
    "import numpy as np\n",
    "\n",
    "def top_three(classifier, X):\n",
    "    res = \"\"\n",
    "    probabilities = classifier.predict_proba(X)\n",
    "    labels = classifier.classes_\n",
    "    dic_languages =[dict(zip(labels, prob)) for prob in probabilities]\n",
    "    for pred in dic_languages:\n",
    "        sorted_pred = dict(sorted(pred.items(), key=lambda item: item[1], reverse=True)[:3])\n",
    "        other = 100\n",
    "        for key, value in sorted_pred.items():\n",
    "            sorted_pred[key] = round(value * 100, 2)\n",
    "            other -= sorted_pred[key]\n",
    "            res += key + \" = \" + str(sorted_pred[key]) + '%\\n'\n",
    "        res += \"Other = \" + str(round(other , 2)) + \"%\\n\"\n",
    "        \n",
    "    return res\n",
    "\n",
    "def finalmodel(sentence):\n",
    "    if isinstance(sentence, list):\n",
    "        for phrase in sentence:\n",
    "            phrase += \" \"\n",
    "        sentence = transformation(sentence, features)\n",
    "    else:\n",
    "        sentence += \" \" \n",
    "        sentence= transformation([sentence], features)\n",
    "\n",
    "    for prediction in ensemble_clf.predict(sentence):\n",
    "        print(\"the prediction is: \" + prediction)\n",
    "\n",
    "    \n",
    "    return top_three(ensemble_clf, sentence)"
   ]
  },
  {
   "cell_type": "code",
   "execution_count": 74,
   "id": "d2b29c67-2364-48f0-aab6-cd160f585ab7",
   "metadata": {},
   "outputs": [
    {
     "name": "stdout",
     "output_type": "stream",
     "text": [
      "the prediction is: English\n",
      "the prediction is: Portugese\n",
      "the prediction is: French\n",
      "the prediction is: Spanish\n",
      "the prediction is: Romanian\n",
      "the prediction is: Dutch\n",
      "the prediction is: Italian\n",
      "the prediction is: German\n"
     ]
    },
    {
     "data": {
      "text/plain": [
       "'English = 92.91%\\nDutch = 3.85%\\nFrench = 1.72%\\nOther = 1.52%\\nPortugese = 96.76%\\nSpanish = 3.18%\\nItalian = 0.02%\\nOther = 0.04%\\nFrench = 97.17%\\nPortugese = 2.37%\\nEnglish = 0.36%\\nOther = 0.1%\\nSpanish = 98.13%\\nPortugese = 0.81%\\nItalian = 0.37%\\nOther = 0.69%\\nRomanian = 76.46%\\nFrench = 11.34%\\nItalian = 9.02%\\nOther = 3.18%\\nDutch = 93.44%\\nGerman = 6.28%\\nEnglish = 0.2%\\nOther = 0.08%\\nItalian = 52.56%\\nFrench = 31.13%\\nRomanian = 6.37%\\nOther = 9.94%\\nGerman = 68.71%\\nEnglish = 16.2%\\nDutch = 12.79%\\nOther = 2.3%\\n'"
      ]
     },
     "execution_count": 74,
     "metadata": {},
     "output_type": "execute_result"
    }
   ],
   "source": [
    "finalmodel([\n",
    "    \"Hello, how are you?\",\n",
    "    \"Olá, como você está?\",\n",
    "    \"Bonjour, comment ça va?\",\n",
    "    \"Hola, ¿cómo estás?\",\n",
    "    \"Bună, ce mai faci?\",\n",
    "    \"Hallo, hoe gaat het?\",\n",
    "    \"Ciao, come stai?\",\n",
    "    \"Hallo, wie geht's?\"\n",
    "])"
   ]
  },
  {
   "cell_type": "code",
   "execution_count": 79,
   "id": "36eebab6-9d65-43c0-8db2-82ae49cdfee8",
   "metadata": {},
   "outputs": [
    {
     "name": "stdout",
     "output_type": "stream",
     "text": [
      "the prediction is: Spanish\n",
      "Spanish = 70.5%\n",
      "Portugese = 20.35%\n",
      "German = 6.05%\n",
      "Other = 3.1%\n",
      "\n"
     ]
    }
   ],
   "source": [
    "print(finalmodel(\"\"\"como estas\"\"\"))"
   ]
  },
  {
   "cell_type": "code",
   "execution_count": 82,
   "id": "c0cd4044-6425-41dd-8dbd-b88825f5d251",
   "metadata": {},
   "outputs": [
    {
     "data": {
      "text/plain": [
       "['language_detection_model.pkl']"
      ]
     },
     "execution_count": 82,
     "metadata": {},
     "output_type": "execute_result"
    }
   ],
   "source": [
    "import joblib\n",
    "\n",
    "\n",
    "joblib.dump(finalmodel, \"language_detection_model.pkl\")"
   ]
  },
  {
   "cell_type": "code",
   "execution_count": null,
   "id": "80848c3b-1ec9-4e50-bb18-4bf2c36fc0ce",
   "metadata": {},
   "outputs": [],
   "source": []
  }
 ],
 "metadata": {
  "kernelspec": {
   "display_name": "Python 3 (ipykernel)",
   "language": "python",
   "name": "python3"
  },
  "language_info": {
   "codemirror_mode": {
    "name": "ipython",
    "version": 3
   },
   "file_extension": ".py",
   "mimetype": "text/x-python",
   "name": "python",
   "nbconvert_exporter": "python",
   "pygments_lexer": "ipython3",
   "version": "3.12.6"
  }
 },
 "nbformat": 4,
 "nbformat_minor": 5
}
